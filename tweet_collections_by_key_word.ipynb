{
  "nbformat": 4,
  "nbformat_minor": 0,
  "metadata": {
    "colab": {
      "name": "tweet collections by key word.ipynb",
      "provenance": []
    },
    "kernelspec": {
      "name": "python3",
      "display_name": "Python 3"
    },
    "language_info": {
      "name": "python"
    }
  },
  "cells": [
    {
      "cell_type": "code",
      "execution_count": null,
      "metadata": {
        "id": "uA89Bhpm47he"
      },
      "outputs": [],
      "source": [
        "import tweepy\n",
        "from textblob import TextBlob\n",
        "from wordcloud import WordCloud\n",
        "import pandas as pd\n",
        "import numpy as np\n",
        "import re\n",
        "import matplotlib.pyplot as plt\n",
        "plt.style.use(\"fivethirtyeight\")\n",
        "import csv"
      ]
    },
    {
      "cell_type": "code",
      "source": [
        "consumerKey = 'yyyyy'\n",
        "consumerSecret = 'yyyyyy'\n",
        "accessToken = '--------------------------------------------------'\n",
        "accessTokenSecret = '---------------------------------------------'"
      ],
      "metadata": {
        "id": "PUmniC4p4-p-"
      },
      "execution_count": null,
      "outputs": []
    },
    {
      "cell_type": "code",
      "source": [
        "authenticate = tweepy.OAuthHandler(consumerKey, consumerSecret)\n",
        "api = tweepy.API(authenticate, wait_on_rate_limit= True)"
      ],
      "metadata": {
        "id": "2__xKJ335B1M"
      },
      "execution_count": null,
      "outputs": []
    },
    {
      "cell_type": "markdown",
      "source": [
        "# Username base tweets collection"
      ],
      "metadata": {
        "id": "B2hQKoyRRNqW"
      }
    },
    {
      "cell_type": "code",
      "source": [
        "# Extracting tweets from the twitter user\n",
        "account = \"username\"\n",
        "num = 10 # total number of tweets\n",
        "posts = api.user_timeline(screen_name = account, count=num, lang= \"en\" \n",
        "                          ,tweet_mode = \"extended\")\n",
        "print(\"Show the \",num,\" recent tweets \\n\")  \n",
        "i=1\n",
        "for tweet in posts[0:num]:\n",
        "  print(str(i) + ') '+ tweet.full_text + '\\n')\n",
        "  i+=1"
      ],
      "metadata": {
        "colab": {
          "base_uri": "https://localhost:8080/"
        },
        "id": "83fZX3MA5DRN",
        "outputId": "d60a57e3-ef7a-4da9-a001-2c2cfa18b4ab"
      },
      "execution_count": null,
      "outputs": [
        {
          "output_type": "stream",
          "name": "stdout",
          "text": [
            "Show the  10  recent tweets \n",
            "\n",
            "1) @elonmusk I wish I join twitter as a developer with @elonmusk in the twitter company\n",
            "\n"
          ]
        }
      ]
    },
    {
      "cell_type": "markdown",
      "source": [
        "# keyword base tweets collection"
      ],
      "metadata": {
        "id": "vHqutFffRRhS"
      }
    },
    {
      "cell_type": "code",
      "source": [
        "search_words = \"tesla\"\n",
        "date_since = \"2022-01-16\"\n",
        "until_date = \"2022-05-27\"\n",
        "\n",
        "\n",
        "csvFile = open('result.csv', 'a',encoding='utf-8')\n",
        "csvWriter = csv.writer(csvFile)\n",
        "\n",
        "tweets = tweepy.Cursor(api.search,\n",
        "              q=\"Hello,\n",
        "              lang=\"en\",\n",
        "              since=date_since,\n",
        "              until = until_date,).items(5)\n",
        "csvWriter.writerow(['tweet_id',\"screen_name\",\"created_at\", \"tweet_text\"])\n",
        "for tweet in tweets:\n",
        "    print(tweet.id, '   ',tweet.user.screen_name,'  ', tweet.text)\n",
        "    csvWriter.writerow([tweet.id,tweet.user.screen_name,tweet.created_at, tweet.text.encode('utf-8')])\n",
        "\n",
        "csvFile.close()\n"
      ],
      "metadata": {
        "colab": {
          "base_uri": "https://localhost:8080/"
        },
        "id": "YyHiAVGZO791",
        "outputId": "03b5d825-39af-45dc-e08a-378b23303366"
      },
      "execution_count": null,
      "outputs": [
        {
          "output_type": "stream",
          "name": "stdout",
          "text": [
            "1529975651813322752     Syedkhurram007    RT @_doctorspeaks_: This is how they use to spread fake news and they illiterate patwari start spreading these post like their very own Dut…\n",
            "1529975646906114048     Fizabat20543164    RT @itsRHHK: Once a liar always a liar.\n",
            "I remember Asad umar ridiculed her in live show when she wanted to paint Asad responsible for wrong…\n",
            "1529975627423666182     justm2015    RT @Bisma4PK: The only solution of the current political instability in Pakistan...\n",
            "#آرہاہے_الیکشن\n",
            "Because we reject imported govt\n",
            "#امپورٹڈ…\n",
            "1529975617583984640     Al3za4    @mustafaaleem You can expect anything from these hooligans.\n",
            "\n",
            "#حقیقی_آزادی_مارچ \n",
            "#امپورٹڈ_حکومت_نامنظور\n",
            "1529975602446585958     justm2015    RT @MaarKho25851711: Another shamefull act by imported government.\n",
            "#حقیقی_آزادی_مارچ\n",
            "#امپورٹڈ_حکومت_نامنظور https://t.co/OxmtbeBbps\n"
          ]
        }
      ]
    },
    {
      "cell_type": "code",
      "source": [
        "real_data = pd.read_csv('/content/result.csv',encoding='utf-8')\n",
        "\n",
        "real_data.head()"
      ],
      "metadata": {
        "id": "taXxxCACNqw8",
        "colab": {
          "base_uri": "https://localhost:8080/",
          "height": 206
        },
        "outputId": "8f350dd2-4e8c-4a47-89cf-2e692791273f"
      },
      "execution_count": null,
      "outputs": [
        {
          "output_type": "execute_result",
          "data": {
            "text/plain": [
              "              tweet_id      screen_name           created_at  \\\n",
              "0  1529975651813322752   Syedkhurram007  2022-05-26 23:59:55   \n",
              "1  1529975646906114048  Fizabat20543164  2022-05-26 23:59:54   \n",
              "2  1529975627423666182        justm2015  2022-05-26 23:59:49   \n",
              "3  1529975617583984640           Al3za4  2022-05-26 23:59:47   \n",
              "4  1529975602446585958        justm2015  2022-05-26 23:59:43   \n",
              "\n",
              "                                          tweet_text  \n",
              "0  b'RT @_doctorspeaks_: This is how they use to ...  \n",
              "1  b'RT @itsRHHK: Once a liar always a liar.\\nI r...  \n",
              "2  b'RT @Bisma4PK: The only solution of the curre...  \n",
              "3  b'@mustafaaleem You can expect anything from t...  \n",
              "4  b'RT @MaarKho25851711: Another shamefull act b...  "
            ],
            "text/html": [
              "\n",
              "  <div id=\"df-74acf95e-3bb1-406c-a139-a748e64f1668\">\n",
              "    <div class=\"colab-df-container\">\n",
              "      <div>\n",
              "<style scoped>\n",
              "    .dataframe tbody tr th:only-of-type {\n",
              "        vertical-align: middle;\n",
              "    }\n",
              "\n",
              "    .dataframe tbody tr th {\n",
              "        vertical-align: top;\n",
              "    }\n",
              "\n",
              "    .dataframe thead th {\n",
              "        text-align: right;\n",
              "    }\n",
              "</style>\n",
              "<table border=\"1\" class=\"dataframe\">\n",
              "  <thead>\n",
              "    <tr style=\"text-align: right;\">\n",
              "      <th></th>\n",
              "      <th>tweet_id</th>\n",
              "      <th>screen_name</th>\n",
              "      <th>created_at</th>\n",
              "      <th>tweet_text</th>\n",
              "    </tr>\n",
              "  </thead>\n",
              "  <tbody>\n",
              "    <tr>\n",
              "      <th>0</th>\n",
              "      <td>1529975651813322752</td>\n",
              "      <td>Syedkhurram007</td>\n",
              "      <td>2022-05-26 23:59:55</td>\n",
              "      <td>b'RT @_doctorspeaks_: This is how they use to ...</td>\n",
              "    </tr>\n",
              "    <tr>\n",
              "      <th>1</th>\n",
              "      <td>1529975646906114048</td>\n",
              "      <td>Fizabat20543164</td>\n",
              "      <td>2022-05-26 23:59:54</td>\n",
              "      <td>b'RT @itsRHHK: Once a liar always a liar.\\nI r...</td>\n",
              "    </tr>\n",
              "    <tr>\n",
              "      <th>2</th>\n",
              "      <td>1529975627423666182</td>\n",
              "      <td>justm2015</td>\n",
              "      <td>2022-05-26 23:59:49</td>\n",
              "      <td>b'RT @Bisma4PK: The only solution of the curre...</td>\n",
              "    </tr>\n",
              "    <tr>\n",
              "      <th>3</th>\n",
              "      <td>1529975617583984640</td>\n",
              "      <td>Al3za4</td>\n",
              "      <td>2022-05-26 23:59:47</td>\n",
              "      <td>b'@mustafaaleem You can expect anything from t...</td>\n",
              "    </tr>\n",
              "    <tr>\n",
              "      <th>4</th>\n",
              "      <td>1529975602446585958</td>\n",
              "      <td>justm2015</td>\n",
              "      <td>2022-05-26 23:59:43</td>\n",
              "      <td>b'RT @MaarKho25851711: Another shamefull act b...</td>\n",
              "    </tr>\n",
              "  </tbody>\n",
              "</table>\n",
              "</div>\n",
              "      <button class=\"colab-df-convert\" onclick=\"convertToInteractive('df-74acf95e-3bb1-406c-a139-a748e64f1668')\"\n",
              "              title=\"Convert this dataframe to an interactive table.\"\n",
              "              style=\"display:none;\">\n",
              "        \n",
              "  <svg xmlns=\"http://www.w3.org/2000/svg\" height=\"24px\"viewBox=\"0 0 24 24\"\n",
              "       width=\"24px\">\n",
              "    <path d=\"M0 0h24v24H0V0z\" fill=\"none\"/>\n",
              "    <path d=\"M18.56 5.44l.94 2.06.94-2.06 2.06-.94-2.06-.94-.94-2.06-.94 2.06-2.06.94zm-11 1L8.5 8.5l.94-2.06 2.06-.94-2.06-.94L8.5 2.5l-.94 2.06-2.06.94zm10 10l.94 2.06.94-2.06 2.06-.94-2.06-.94-.94-2.06-.94 2.06-2.06.94z\"/><path d=\"M17.41 7.96l-1.37-1.37c-.4-.4-.92-.59-1.43-.59-.52 0-1.04.2-1.43.59L10.3 9.45l-7.72 7.72c-.78.78-.78 2.05 0 2.83L4 21.41c.39.39.9.59 1.41.59.51 0 1.02-.2 1.41-.59l7.78-7.78 2.81-2.81c.8-.78.8-2.07 0-2.86zM5.41 20L4 18.59l7.72-7.72 1.47 1.35L5.41 20z\"/>\n",
              "  </svg>\n",
              "      </button>\n",
              "      \n",
              "  <style>\n",
              "    .colab-df-container {\n",
              "      display:flex;\n",
              "      flex-wrap:wrap;\n",
              "      gap: 12px;\n",
              "    }\n",
              "\n",
              "    .colab-df-convert {\n",
              "      background-color: #E8F0FE;\n",
              "      border: none;\n",
              "      border-radius: 50%;\n",
              "      cursor: pointer;\n",
              "      display: none;\n",
              "      fill: #1967D2;\n",
              "      height: 32px;\n",
              "      padding: 0 0 0 0;\n",
              "      width: 32px;\n",
              "    }\n",
              "\n",
              "    .colab-df-convert:hover {\n",
              "      background-color: #E2EBFA;\n",
              "      box-shadow: 0px 1px 2px rgba(60, 64, 67, 0.3), 0px 1px 3px 1px rgba(60, 64, 67, 0.15);\n",
              "      fill: #174EA6;\n",
              "    }\n",
              "\n",
              "    [theme=dark] .colab-df-convert {\n",
              "      background-color: #3B4455;\n",
              "      fill: #D2E3FC;\n",
              "    }\n",
              "\n",
              "    [theme=dark] .colab-df-convert:hover {\n",
              "      background-color: #434B5C;\n",
              "      box-shadow: 0px 1px 3px 1px rgba(0, 0, 0, 0.15);\n",
              "      filter: drop-shadow(0px 1px 2px rgba(0, 0, 0, 0.3));\n",
              "      fill: #FFFFFF;\n",
              "    }\n",
              "  </style>\n",
              "\n",
              "      <script>\n",
              "        const buttonEl =\n",
              "          document.querySelector('#df-74acf95e-3bb1-406c-a139-a748e64f1668 button.colab-df-convert');\n",
              "        buttonEl.style.display =\n",
              "          google.colab.kernel.accessAllowed ? 'block' : 'none';\n",
              "\n",
              "        async function convertToInteractive(key) {\n",
              "          const element = document.querySelector('#df-74acf95e-3bb1-406c-a139-a748e64f1668');\n",
              "          const dataTable =\n",
              "            await google.colab.kernel.invokeFunction('convertToInteractive',\n",
              "                                                     [key], {});\n",
              "          if (!dataTable) return;\n",
              "\n",
              "          const docLinkHtml = 'Like what you see? Visit the ' +\n",
              "            '<a target=\"_blank\" href=https://colab.research.google.com/notebooks/data_table.ipynb>data table notebook</a>'\n",
              "            + ' to learn more about interactive tables.';\n",
              "          element.innerHTML = '';\n",
              "          dataTable['output_type'] = 'display_data';\n",
              "          await google.colab.output.renderOutput(dataTable, element);\n",
              "          const docLink = document.createElement('div');\n",
              "          docLink.innerHTML = docLinkHtml;\n",
              "          element.appendChild(docLink);\n",
              "        }\n",
              "      </script>\n",
              "    </div>\n",
              "  </div>\n",
              "  "
            ]
          },
          "metadata": {},
          "execution_count": 6
        }
      ]
    },
    {
      "cell_type": "code",
      "source": [
        ""
      ],
      "metadata": {
        "id": "2FuWqYK9XZwI"
      },
      "execution_count": null,
      "outputs": []
    },
    {
      "cell_type": "code",
      "source": [
        ""
      ],
      "metadata": {
        "id": "fUkwOHK7-aB-"
      },
      "execution_count": null,
      "outputs": []
    },
    {
      "cell_type": "code",
      "source": [
        ""
      ],
      "metadata": {
        "id": "AUhExC3s-aEx"
      },
      "execution_count": null,
      "outputs": []
    },
    {
      "cell_type": "code",
      "source": [
        ""
      ],
      "metadata": {
        "id": "wY2Z6fTm-aHc"
      },
      "execution_count": null,
      "outputs": []
    },
    {
      "cell_type": "code",
      "source": [
        ""
      ],
      "metadata": {
        "id": "avjFpOxo-aKB"
      },
      "execution_count": null,
      "outputs": []
    },
    {
      "cell_type": "code",
      "source": [
        ""
      ],
      "metadata": {
        "id": "PhEbzfPr-aMu"
      },
      "execution_count": null,
      "outputs": []
    },
    {
      "cell_type": "code",
      "source": [
        ""
      ],
      "metadata": {
        "id": "Vn6BMTyj-aPR"
      },
      "execution_count": null,
      "outputs": []
    },
    {
      "cell_type": "code",
      "source": [
        ""
      ],
      "metadata": {
        "id": "ULLECMJr-aR-"
      },
      "execution_count": null,
      "outputs": []
    },
    {
      "cell_type": "code",
      "source": [
        ""
      ],
      "metadata": {
        "id": "_-I4REda-aUt"
      },
      "execution_count": null,
      "outputs": []
    },
    {
      "cell_type": "code",
      "source": [
        "from google.colab import drive\n",
        "drive.mount('/content/drive')"
      ],
      "metadata": {
        "id": "6puYjSYH-aXh",
        "colab": {
          "base_uri": "https://localhost:8080/"
        },
        "outputId": "d78c3767-562f-441b-a6df-6b08e2e16a60"
      },
      "execution_count": null,
      "outputs": [
        {
          "output_type": "stream",
          "name": "stdout",
          "text": [
            "Mounted at /content/drive\n"
          ]
        }
      ]
    },
    {
      "cell_type": "code",
      "execution_count": null,
      "metadata": {
        "id": "t60yVDPt-avk"
      },
      "outputs": [],
      "source": [
        "import tweepy\n",
        "from textblob import TextBlob\n",
        "from wordcloud import WordCloud\n",
        "import pandas as pd\n",
        "import numpy as np\n",
        "import re\n",
        "import matplotlib.pyplot as plt\n",
        "plt.style.use(\"fivethirtyeight\")\n",
        "import csv"
      ]
    },
    {
      "cell_type": "code",
      "source": [
        "consumerKey = 'EyIcs34jy9D6nuQ3GfbW02hJE'\n",
        "consumerSecret = 'EJi7iWRAK1bzWltOKDsibc7TZy3nVogttapYPWQRdVVOG9d9X7'\n",
        "accessToken = '--------------------------------------------------'\n",
        "accessTokenSecret = '---------------------------------------------'"
      ],
      "metadata": {
        "id": "8sPD_nhl-avm"
      },
      "execution_count": null,
      "outputs": []
    },
    {
      "cell_type": "code",
      "source": [
        "authenticate = tweepy.OAuthHandler(consumerKey, consumerSecret)\n",
        "api = tweepy.API(authenticate, wait_on_rate_limit= True)"
      ],
      "metadata": {
        "id": "GZOlgasN-avn"
      },
      "execution_count": null,
      "outputs": []
    },
    {
      "cell_type": "markdown",
      "source": [
        "# Username base tweets collection"
      ],
      "metadata": {
        "id": "3ocags9m-avo"
      }
    },
    {
      "cell_type": "code",
      "source": [
        "# Extracting tweets from the twitter user\n",
        "account = \"bacha1255\"\n",
        "num = 10 # total number of tweets\n",
        "posts = api.user_timeline(screen_name = account, count=num, lang= \"en\" \n",
        "                          ,tweet_mode = \"extended\")\n",
        "print(\"Show the \",num,\" recent tweets \\n\")  \n",
        "i=1\n",
        "for tweet in posts[0:num]:\n",
        "  print(str(i) + ') '+ tweet.full_text + '\\n')\n",
        "  i+=1"
      ],
      "metadata": {
        "colab": {
          "base_uri": "https://localhost:8080/"
        },
        "outputId": "31aef82d-c478-4718-e29e-a2130ee9bac4",
        "id": "-t5gAb78-avp"
      },
      "execution_count": null,
      "outputs": [
        {
          "output_type": "stream",
          "name": "stdout",
          "text": [
            "Show the  10  recent tweets \n",
            "\n",
            "1) @elonmusk I wish I join twitter as a developer with @elonmusk in the twitter company\n",
            "\n"
          ]
        }
      ]
    },
    {
      "cell_type": "code",
      "source": [
        "pip install xlsxwriter "
      ],
      "metadata": {
        "colab": {
          "base_uri": "https://localhost:8080/"
        },
        "id": "XLy_YU7kpWE4",
        "outputId": "474bceb3-0c5c-446d-c08f-72278bf1fd46"
      },
      "execution_count": null,
      "outputs": [
        {
          "output_type": "stream",
          "name": "stdout",
          "text": [
            "Looking in indexes: https://pypi.org/simple, https://us-python.pkg.dev/colab-wheels/public/simple/\n",
            "Collecting xlsxwriter\n",
            "  Downloading XlsxWriter-3.0.3-py3-none-any.whl (149 kB)\n",
            "\u001b[K     |████████████████████████████████| 149 kB 5.1 MB/s \n",
            "\u001b[?25hInstalling collected packages: xlsxwriter\n",
            "Successfully installed xlsxwriter-3.0.3\n"
          ]
        }
      ]
    },
    {
      "cell_type": "markdown",
      "source": [
        "# keyword base tweets collection"
      ],
      "metadata": {
        "id": "RCFpI5Gb-avq"
      }
    },
    {
      "cell_type": "code",
      "source": [
        "search_words = \"tesla\"\n",
        "date_since = \"2016-01-16\"\n",
        "until_date = \"2022-05-29\"\n",
        "import xlsxwriter\n",
        "row = 1\n",
        "col = 0\n",
        "\n",
        "workbook = xlsxwriter.Workbook('Sentiment_Analysis_dataset.xlsx')\n",
        "worksheet = workbook.add_worksheet()\n",
        "worksheet.write(row, col, \"tweet_id\")\n",
        "worksheet.write(row, col+1, \"tweet_user_screen_name\")\n",
        "worksheet.write(row, col + 2, \"tweet_created\")\n",
        "worksheet.write(row, col + 3, \"tweet_text\")\n",
        "\n",
        "# csvFile = open('result.csv', 'a',encoding='utf-8')\n",
        "# csvWriter = csv.writer(csvFile)\n",
        "#csvWriter.writerow(['tweet_id',\"screen_name\",\"created_at\", \"tweet_text\"])\n",
        "\n",
        "# keyword = [\"씨발\",\"개새끼\",\"지랄\",\"빈대새끼\",\"미친놈\",\"좆됐어\",\"병신\",\"닥쳐\",\"꼰대\",\"급식충\",\"Fuck!\",\"Fuck\",\"motherfuck\",\"fucking\",\"pussy\",\"ass\",\"dickhole\",\"choos\",\"lun\",\"danda\",\"noonoo\",\"Bhadwe\",\"chode\"]\n",
        "keyword = [\"Fuck\",\"bitch\",\"bullshit\",\"dick\",\"Crazy\",\"Rubbish\",\"asshole\",\"Shut up\",\"Bastard\",\"piss\", \"ugly\", \"stupid\",\"motherfucker\"]\n",
        "\n",
        "\n",
        "for i in range(1):\n",
        "  print(keyword[i])\n",
        "  tweets = tweepy.Cursor(api.search,\n",
        "              q=keyword[i],\n",
        "              lang=\"en\",\n",
        "              since=date_since,\n",
        "              until = until_date,).items(5)\n",
        "  for tweet in tweets:\n",
        "    print(tweet.id, '   ',tweet.user.screen_name,'  ', tweet.text)\n",
        "    #csvWriter.writerow([tweet.id,tweet.user.screen_name,tweet.created_at, tweet.text.encode('utf-8')])\n",
        "    worksheet.write(row, col, tweet.id)\n",
        "    worksheet.write(row, col+1, tweet.user.screen_name)\n",
        "    worksheet.write(row, col + 2, tweet.created_at)\n",
        "    worksheet.write(row, col + 3, tweet.text)\n",
        "    row += 1\n",
        "\n",
        "\n",
        "\n",
        "workbook.close()\n",
        "#csvFile.close()\n"
      ],
      "metadata": {
        "colab": {
          "base_uri": "https://localhost:8080/"
        },
        "outputId": "808d2f6f-a0e2-4ae0-f27d-6455fde0dd6f",
        "id": "BW1BFcvf-avq"
      },
      "execution_count": null,
      "outputs": [
        {
          "output_type": "stream",
          "name": "stdout",
          "text": [
            "Fuck\n"
          ]
        }
      ]
    },
    {
      "cell_type": "code",
      "source": [
        "real_data = pd.read_csv('/content/result.csv', encoding='utf-8')\n",
        "\n",
        "real_data"
      ],
      "metadata": {
        "colab": {
          "base_uri": "https://localhost:8080/",
          "height": 206
        },
        "outputId": "520a46fd-0e3c-46af-bbe1-54730f1740a3",
        "id": "2bdx0QPN-avs"
      },
      "execution_count": null,
      "outputs": [
        {
          "output_type": "execute_result",
          "data": {
            "text/plain": [
              "              tweet_id      screen_name           created_at  \\\n",
              "0  1530074519523983361         deerhive  2022-05-27 06:32:47   \n",
              "1  1529942532339437568    seungcheoIIie  2022-05-26 21:48:19   \n",
              "2  1529842287638851590  Maharan69605312  2022-05-26 15:09:59   \n",
              "3  1529828344434655238    exo_americano  2022-05-26 14:14:34   \n",
              "4  1529827590327848960          514LMH2  2022-05-26 14:11:35   \n",
              "\n",
              "                                          tweet_text  \n",
              "0  b'@baklatheworld Short for \\xec\\x94\\xa8\\xeb\\xb...  \n",
              "1  b'about to do a korean oral exam feeling sick ...  \n",
              "2  b'i get the habit thingy, not with the discipl...  \n",
              "3  b'RT @Jongjongin1401: All the comments under k...  \n",
              "4  b'finally i hear shownu saying \\xec\\x94\\xa8\\xe...  "
            ],
            "text/html": [
              "\n",
              "  <div id=\"df-a2795429-6edc-4385-9c88-6c3acfe1f4a9\">\n",
              "    <div class=\"colab-df-container\">\n",
              "      <div>\n",
              "<style scoped>\n",
              "    .dataframe tbody tr th:only-of-type {\n",
              "        vertical-align: middle;\n",
              "    }\n",
              "\n",
              "    .dataframe tbody tr th {\n",
              "        vertical-align: top;\n",
              "    }\n",
              "\n",
              "    .dataframe thead th {\n",
              "        text-align: right;\n",
              "    }\n",
              "</style>\n",
              "<table border=\"1\" class=\"dataframe\">\n",
              "  <thead>\n",
              "    <tr style=\"text-align: right;\">\n",
              "      <th></th>\n",
              "      <th>tweet_id</th>\n",
              "      <th>screen_name</th>\n",
              "      <th>created_at</th>\n",
              "      <th>tweet_text</th>\n",
              "    </tr>\n",
              "  </thead>\n",
              "  <tbody>\n",
              "    <tr>\n",
              "      <th>0</th>\n",
              "      <td>1530074519523983361</td>\n",
              "      <td>deerhive</td>\n",
              "      <td>2022-05-27 06:32:47</td>\n",
              "      <td>b'@baklatheworld Short for \\xec\\x94\\xa8\\xeb\\xb...</td>\n",
              "    </tr>\n",
              "    <tr>\n",
              "      <th>1</th>\n",
              "      <td>1529942532339437568</td>\n",
              "      <td>seungcheoIIie</td>\n",
              "      <td>2022-05-26 21:48:19</td>\n",
              "      <td>b'about to do a korean oral exam feeling sick ...</td>\n",
              "    </tr>\n",
              "    <tr>\n",
              "      <th>2</th>\n",
              "      <td>1529842287638851590</td>\n",
              "      <td>Maharan69605312</td>\n",
              "      <td>2022-05-26 15:09:59</td>\n",
              "      <td>b'i get the habit thingy, not with the discipl...</td>\n",
              "    </tr>\n",
              "    <tr>\n",
              "      <th>3</th>\n",
              "      <td>1529828344434655238</td>\n",
              "      <td>exo_americano</td>\n",
              "      <td>2022-05-26 14:14:34</td>\n",
              "      <td>b'RT @Jongjongin1401: All the comments under k...</td>\n",
              "    </tr>\n",
              "    <tr>\n",
              "      <th>4</th>\n",
              "      <td>1529827590327848960</td>\n",
              "      <td>514LMH2</td>\n",
              "      <td>2022-05-26 14:11:35</td>\n",
              "      <td>b'finally i hear shownu saying \\xec\\x94\\xa8\\xe...</td>\n",
              "    </tr>\n",
              "  </tbody>\n",
              "</table>\n",
              "</div>\n",
              "      <button class=\"colab-df-convert\" onclick=\"convertToInteractive('df-a2795429-6edc-4385-9c88-6c3acfe1f4a9')\"\n",
              "              title=\"Convert this dataframe to an interactive table.\"\n",
              "              style=\"display:none;\">\n",
              "        \n",
              "  <svg xmlns=\"http://www.w3.org/2000/svg\" height=\"24px\"viewBox=\"0 0 24 24\"\n",
              "       width=\"24px\">\n",
              "    <path d=\"M0 0h24v24H0V0z\" fill=\"none\"/>\n",
              "    <path d=\"M18.56 5.44l.94 2.06.94-2.06 2.06-.94-2.06-.94-.94-2.06-.94 2.06-2.06.94zm-11 1L8.5 8.5l.94-2.06 2.06-.94-2.06-.94L8.5 2.5l-.94 2.06-2.06.94zm10 10l.94 2.06.94-2.06 2.06-.94-2.06-.94-.94-2.06-.94 2.06-2.06.94z\"/><path d=\"M17.41 7.96l-1.37-1.37c-.4-.4-.92-.59-1.43-.59-.52 0-1.04.2-1.43.59L10.3 9.45l-7.72 7.72c-.78.78-.78 2.05 0 2.83L4 21.41c.39.39.9.59 1.41.59.51 0 1.02-.2 1.41-.59l7.78-7.78 2.81-2.81c.8-.78.8-2.07 0-2.86zM5.41 20L4 18.59l7.72-7.72 1.47 1.35L5.41 20z\"/>\n",
              "  </svg>\n",
              "      </button>\n",
              "      \n",
              "  <style>\n",
              "    .colab-df-container {\n",
              "      display:flex;\n",
              "      flex-wrap:wrap;\n",
              "      gap: 12px;\n",
              "    }\n",
              "\n",
              "    .colab-df-convert {\n",
              "      background-color: #E8F0FE;\n",
              "      border: none;\n",
              "      border-radius: 50%;\n",
              "      cursor: pointer;\n",
              "      display: none;\n",
              "      fill: #1967D2;\n",
              "      height: 32px;\n",
              "      padding: 0 0 0 0;\n",
              "      width: 32px;\n",
              "    }\n",
              "\n",
              "    .colab-df-convert:hover {\n",
              "      background-color: #E2EBFA;\n",
              "      box-shadow: 0px 1px 2px rgba(60, 64, 67, 0.3), 0px 1px 3px 1px rgba(60, 64, 67, 0.15);\n",
              "      fill: #174EA6;\n",
              "    }\n",
              "\n",
              "    [theme=dark] .colab-df-convert {\n",
              "      background-color: #3B4455;\n",
              "      fill: #D2E3FC;\n",
              "    }\n",
              "\n",
              "    [theme=dark] .colab-df-convert:hover {\n",
              "      background-color: #434B5C;\n",
              "      box-shadow: 0px 1px 3px 1px rgba(0, 0, 0, 0.15);\n",
              "      filter: drop-shadow(0px 1px 2px rgba(0, 0, 0, 0.3));\n",
              "      fill: #FFFFFF;\n",
              "    }\n",
              "  </style>\n",
              "\n",
              "      <script>\n",
              "        const buttonEl =\n",
              "          document.querySelector('#df-a2795429-6edc-4385-9c88-6c3acfe1f4a9 button.colab-df-convert');\n",
              "        buttonEl.style.display =\n",
              "          google.colab.kernel.accessAllowed ? 'block' : 'none';\n",
              "\n",
              "        async function convertToInteractive(key) {\n",
              "          const element = document.querySelector('#df-a2795429-6edc-4385-9c88-6c3acfe1f4a9');\n",
              "          const dataTable =\n",
              "            await google.colab.kernel.invokeFunction('convertToInteractive',\n",
              "                                                     [key], {});\n",
              "          if (!dataTable) return;\n",
              "\n",
              "          const docLinkHtml = 'Like what you see? Visit the ' +\n",
              "            '<a target=\"_blank\" href=https://colab.research.google.com/notebooks/data_table.ipynb>data table notebook</a>'\n",
              "            + ' to learn more about interactive tables.';\n",
              "          element.innerHTML = '';\n",
              "          dataTable['output_type'] = 'display_data';\n",
              "          await google.colab.output.renderOutput(dataTable, element);\n",
              "          const docLink = document.createElement('div');\n",
              "          docLink.innerHTML = docLinkHtml;\n",
              "          element.appendChild(docLink);\n",
              "        }\n",
              "      </script>\n",
              "    </div>\n",
              "  </div>\n",
              "  "
            ]
          },
          "metadata": {},
          "execution_count": 22
        }
      ]
    },
    {
      "cell_type": "code",
      "source": [
        "workbook = xlsxwriter.Workbook('hellooooooooooooo.xlsx')\n",
        "worksheet = workbook.add_worksheet()\n",
        "worksheet.write(1,0, '씨발..')\n",
        "worksheet.write(1,1, '빈대새끼')\n",
        "worksheet.write(1,2, 'For')\n",
        "worksheet.write(2,0, '씨발..')\n",
        "worksheet.write(2,1, '빈대새끼')\n",
        "worksheet.write(2,2, 'For')\n",
        "workbook.close()"
      ],
      "metadata": {
        "id": "WlcrhLH6mMoJ"
      },
      "execution_count": null,
      "outputs": []
    },
    {
      "cell_type": "code",
      "source": [
        ""
      ],
      "metadata": {
        "id": "DdDovAWnuy80"
      },
      "execution_count": null,
      "outputs": []
    },
    {
      "cell_type": "code",
      "source": [
        ""
      ],
      "metadata": {
        "id": "stCf5JjW6bPM"
      },
      "execution_count": null,
      "outputs": []
    }
  ]
}
